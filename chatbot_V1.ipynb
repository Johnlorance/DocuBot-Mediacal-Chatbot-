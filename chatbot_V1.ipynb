{
  "nbformat": 4,
  "nbformat_minor": 0,
  "metadata": {
    "colab": {
      "provenance": []
    },
    "kernelspec": {
      "name": "python3",
      "display_name": "Python 3"
    },
    "language_info": {
      "name": "python"
    }
  },
  "cells": [
    {
      "cell_type": "code",
      "execution_count": null,
      "metadata": {
        "colab": {
          "base_uri": "https://localhost:8080/"
        },
        "id": "erev5FKmoVPP",
        "outputId": "84ea3638-14fa-460b-d688-8801a414cb8f"
      },
      "outputs": [
        {
          "output_type": "stream",
          "name": "stdout",
          "text": [
            "Looking in indexes: https://pypi.org/simple, https://us-python.pkg.dev/colab-wheels/public/simple/\n",
            "Requirement already satisfied: nltk in /usr/local/lib/python3.9/dist-packages (3.8.1)\n",
            "Requirement already satisfied: joblib in /usr/local/lib/python3.9/dist-packages (from nltk) (1.2.0)\n",
            "Requirement already satisfied: click in /usr/local/lib/python3.9/dist-packages (from nltk) (8.1.3)\n",
            "Requirement already satisfied: tqdm in /usr/local/lib/python3.9/dist-packages (from nltk) (4.65.0)\n",
            "Requirement already satisfied: regex>=2021.8.3 in /usr/local/lib/python3.9/dist-packages (from nltk) (2022.10.31)\n"
          ]
        }
      ],
      "source": [
        "pip install nltk"
      ]
    },
    {
      "cell_type": "code",
      "source": [
        "pip install newspaper3k"
      ],
      "metadata": {
        "colab": {
          "base_uri": "https://localhost:8080/"
        },
        "id": "rsijnH4NokYg",
        "outputId": "4ad09a3b-c0d4-4997-beba-26663fb3ca24"
      },
      "execution_count": null,
      "outputs": [
        {
          "output_type": "stream",
          "name": "stdout",
          "text": [
            "Looking in indexes: https://pypi.org/simple, https://us-python.pkg.dev/colab-wheels/public/simple/\n",
            "Collecting newspaper3k\n",
            "  Downloading newspaper3k-0.2.8-py3-none-any.whl (211 kB)\n",
            "\u001b[2K     \u001b[90m━━━━━━━━━━━━━━━━━━━━━━━━━━━━━━━━━━━━━━\u001b[0m \u001b[32m211.1/211.1 KB\u001b[0m \u001b[31m18.5 MB/s\u001b[0m eta \u001b[36m0:00:00\u001b[0m\n",
            "\u001b[?25hCollecting feedparser>=5.2.1\n",
            "  Downloading feedparser-6.0.10-py3-none-any.whl (81 kB)\n",
            "\u001b[2K     \u001b[90m━━━━━━━━━━━━━━━━━━━━━━━━━━━━━━━━━━━━━━━━\u001b[0m \u001b[32m81.1/81.1 KB\u001b[0m \u001b[31m12.1 MB/s\u001b[0m eta \u001b[36m0:00:00\u001b[0m\n",
            "\u001b[?25hCollecting cssselect>=0.9.2\n",
            "  Downloading cssselect-1.2.0-py2.py3-none-any.whl (18 kB)\n",
            "Requirement already satisfied: python-dateutil>=2.5.3 in /usr/local/lib/python3.9/dist-packages (from newspaper3k) (2.8.2)\n",
            "Requirement already satisfied: lxml>=3.6.0 in /usr/local/lib/python3.9/dist-packages (from newspaper3k) (4.9.2)\n",
            "Requirement already satisfied: Pillow>=3.3.0 in /usr/local/lib/python3.9/dist-packages (from newspaper3k) (8.4.0)\n",
            "Collecting feedfinder2>=0.0.4\n",
            "  Downloading feedfinder2-0.0.4.tar.gz (3.3 kB)\n",
            "  Preparing metadata (setup.py) ... \u001b[?25l\u001b[?25hdone\n",
            "Collecting jieba3k>=0.35.1\n",
            "  Downloading jieba3k-0.35.1.zip (7.4 MB)\n",
            "\u001b[2K     \u001b[90m━━━━━━━━━━━━━━━━━━━━━━━━━━━━━━━━━━━━━━━━\u001b[0m \u001b[32m7.4/7.4 MB\u001b[0m \u001b[31m95.7 MB/s\u001b[0m eta \u001b[36m0:00:00\u001b[0m\n",
            "\u001b[?25h  Preparing metadata (setup.py) ... \u001b[?25l\u001b[?25hdone\n",
            "Requirement already satisfied: beautifulsoup4>=4.4.1 in /usr/local/lib/python3.9/dist-packages (from newspaper3k) (4.11.2)\n",
            "Requirement already satisfied: PyYAML>=3.11 in /usr/local/lib/python3.9/dist-packages (from newspaper3k) (6.0)\n",
            "Collecting tinysegmenter==0.3\n",
            "  Downloading tinysegmenter-0.3.tar.gz (16 kB)\n",
            "  Preparing metadata (setup.py) ... \u001b[?25l\u001b[?25hdone\n",
            "Requirement already satisfied: requests>=2.10.0 in /usr/local/lib/python3.9/dist-packages (from newspaper3k) (2.27.1)\n",
            "Collecting tldextract>=2.0.1\n",
            "  Downloading tldextract-3.4.0-py3-none-any.whl (93 kB)\n",
            "\u001b[2K     \u001b[90m━━━━━━━━━━━━━━━━━━━━━━━━━━━━━━━━━━━━━━━━\u001b[0m \u001b[32m93.9/93.9 KB\u001b[0m \u001b[31m14.8 MB/s\u001b[0m eta \u001b[36m0:00:00\u001b[0m\n",
            "\u001b[?25hRequirement already satisfied: nltk>=3.2.1 in /usr/local/lib/python3.9/dist-packages (from newspaper3k) (3.8.1)\n",
            "Requirement already satisfied: soupsieve>1.2 in /usr/local/lib/python3.9/dist-packages (from beautifulsoup4>=4.4.1->newspaper3k) (2.4)\n",
            "Requirement already satisfied: six in /usr/local/lib/python3.9/dist-packages (from feedfinder2>=0.0.4->newspaper3k) (1.16.0)\n",
            "Collecting sgmllib3k\n",
            "  Downloading sgmllib3k-1.0.0.tar.gz (5.8 kB)\n",
            "  Preparing metadata (setup.py) ... \u001b[?25l\u001b[?25hdone\n",
            "Requirement already satisfied: click in /usr/local/lib/python3.9/dist-packages (from nltk>=3.2.1->newspaper3k) (8.1.3)\n",
            "Requirement already satisfied: regex>=2021.8.3 in /usr/local/lib/python3.9/dist-packages (from nltk>=3.2.1->newspaper3k) (2022.10.31)\n",
            "Requirement already satisfied: joblib in /usr/local/lib/python3.9/dist-packages (from nltk>=3.2.1->newspaper3k) (1.1.1)\n",
            "Requirement already satisfied: tqdm in /usr/local/lib/python3.9/dist-packages (from nltk>=3.2.1->newspaper3k) (4.65.0)\n",
            "Requirement already satisfied: idna<4,>=2.5 in /usr/local/lib/python3.9/dist-packages (from requests>=2.10.0->newspaper3k) (3.4)\n",
            "Requirement already satisfied: certifi>=2017.4.17 in /usr/local/lib/python3.9/dist-packages (from requests>=2.10.0->newspaper3k) (2022.12.7)\n",
            "Requirement already satisfied: charset-normalizer~=2.0.0 in /usr/local/lib/python3.9/dist-packages (from requests>=2.10.0->newspaper3k) (2.0.12)\n",
            "Requirement already satisfied: urllib3<1.27,>=1.21.1 in /usr/local/lib/python3.9/dist-packages (from requests>=2.10.0->newspaper3k) (1.26.15)\n",
            "Collecting requests-file>=1.4\n",
            "  Downloading requests_file-1.5.1-py2.py3-none-any.whl (3.7 kB)\n",
            "Requirement already satisfied: filelock>=3.0.8 in /usr/local/lib/python3.9/dist-packages (from tldextract>=2.0.1->newspaper3k) (3.10.7)\n",
            "Building wheels for collected packages: tinysegmenter, feedfinder2, jieba3k, sgmllib3k\n",
            "  Building wheel for tinysegmenter (setup.py) ... \u001b[?25l\u001b[?25hdone\n",
            "  Created wheel for tinysegmenter: filename=tinysegmenter-0.3-py3-none-any.whl size=13552 sha256=01a0003f7f5427b98d589e1f75f047ebc4ed17bab060f9b3b90ff875b21ff216\n",
            "  Stored in directory: /root/.cache/pip/wheels/94/ad/df/a2a01300cea47d5695f242f7e925a805970106fd9e4b151468\n",
            "  Building wheel for feedfinder2 (setup.py) ... \u001b[?25l\u001b[?25hdone\n",
            "  Created wheel for feedfinder2: filename=feedfinder2-0.0.4-py3-none-any.whl size=3356 sha256=277d700c2c2cc3c286f64264d3c65345c0057ea651b73ea1247c07b15afb208b\n",
            "  Stored in directory: /root/.cache/pip/wheels/43/4a/c2/61a371b2524ac90805391c660d8dc4505705297f25e2b85a5d\n",
            "  Building wheel for jieba3k (setup.py) ... \u001b[?25l\u001b[?25hdone\n",
            "  Created wheel for jieba3k: filename=jieba3k-0.35.1-py3-none-any.whl size=7398404 sha256=0205dacb7238c7bd60ddac873b853da24e4712fb19d04224ca8426a50b6879fe\n",
            "  Stored in directory: /root/.cache/pip/wheels/c2/22/59/8214a8d6357e9f540ce1f37f9a4362b6156b4ca81b37f1945f\n",
            "  Building wheel for sgmllib3k (setup.py) ... \u001b[?25l\u001b[?25hdone\n",
            "  Created wheel for sgmllib3k: filename=sgmllib3k-1.0.0-py3-none-any.whl size=6065 sha256=367acf7551d91706189e2ab3527d67624230bb0feeb6b7cfa702c831e2daa697\n",
            "  Stored in directory: /root/.cache/pip/wheels/65/7a/a7/78c287f64e401255dff4c13fdbc672fed5efbfd21c530114e1\n",
            "Successfully built tinysegmenter feedfinder2 jieba3k sgmllib3k\n",
            "Installing collected packages: tinysegmenter, sgmllib3k, jieba3k, feedparser, cssselect, requests-file, feedfinder2, tldextract, newspaper3k\n",
            "Successfully installed cssselect-1.2.0 feedfinder2-0.0.4 feedparser-6.0.10 jieba3k-0.35.1 newspaper3k-0.2.8 requests-file-1.5.1 sgmllib3k-1.0.0 tinysegmenter-0.3 tldextract-3.4.0\n"
          ]
        }
      ]
    },
    {
      "cell_type": "code",
      "source": [
        "#Import the libraries \n",
        "from newspaper import Article \n",
        "import random \n",
        "import string\n",
        "import nltk\n",
        "from sklearn.feature_extraction.text import CountVectorizer\n",
        "from sklearn.metrics.pairwise import cosine_similarity \n",
        "import numpy as np\n",
        "import warnings\n",
        "warnings.filterwarnings('ignore') "
      ],
      "metadata": {
        "id": "vE9g3HFzozt2"
      },
      "execution_count": null,
      "outputs": []
    },
    {
      "cell_type": "code",
      "source": [
        "#Download the punkt package\n",
        "nltk.download('punkt', quiet = True)"
      ],
      "metadata": {
        "colab": {
          "base_uri": "https://localhost:8080/"
        },
        "id": "sXJ8NYt8qC1v",
        "outputId": "980d6037-999a-4925-b43d-4e6c4127945b"
      },
      "execution_count": null,
      "outputs": [
        {
          "output_type": "execute_result",
          "data": {
            "text/plain": [
              "True"
            ]
          },
          "metadata": {},
          "execution_count": 7
        }
      ]
    },
    {
      "cell_type": "code",
      "source": [
        "#Get the article \n",
        "article = Article('https://www.mayoclinic.org/diseases-conditions/chronic-kidney-disease/symptoms-causes/syc-20354521')\n",
        "article.download()\n",
        "article.parse()\n",
        "article.nlp()\n",
        "corpus= article.text"
      ],
      "metadata": {
        "id": "cjFXP4Kyqjyu"
      },
      "execution_count": null,
      "outputs": []
    },
    {
      "cell_type": "code",
      "source": [
        "print(corpus)"
      ],
      "metadata": {
        "colab": {
          "base_uri": "https://localhost:8080/"
        },
        "id": "3AUSHsjhrZWI",
        "outputId": "17ae40fd-a117-46a3-d609-ec3222ef8238"
      },
      "execution_count": null,
      "outputs": [
        {
          "output_type": "stream",
          "name": "stdout",
          "text": [
            "I'm Dr. Andrew Bentall, a kidney doctor at Mayo Clinic. I look after patients with kidney disease, either in the early stages, or with more advanced kidney disease considering dialysis and transplantation as treatment options. In this video, we'll cover the basics of chronic kidney disease. What is it? Who gets it? The symptoms, diagnosis and treatment. Whether you are looking for answers for yourself or for someone you love, we're here to give you the best information available.\n",
            "\n",
            "Chronic kidney disease is a disease characterized by progressive damage and loss of function in the kidneys. It's estimated that chronic kidney disease affects about one in seven American adults. And most of those don't know they have it. Before we get into the disease itself, let's talk a little bit about the kidneys and what they do. Our kidneys play many important roles keeping our bodies in balance. They remove waste and toxins, excess water from the bloodstream, which is carried out of the body in urine. They helped to make hormones to produce red blood cells, and they turn vitamin D into its active form, so it's usable in the body.\n",
            "\n",
            "There are quite a few things that can cause or put you at higher risk for chronic kidney disease. Some of them are not things that can be avoided. Your risk is simply higher if you have a family history of certain genetic conditions like polycystic kidney disease or some autoimmune diseases like lupus or IgA nephropathy. Defects in the kidney structure can also cause your kidneys to fail, and you have an increased risk as you get older. Sometimes, other common medical conditions can increase your risk. Diabetes is the most common cause of kidney disease. Both type 1 and type 2 diabetes. But also heart disease and obesity can contribute to the damage that causes kidneys to fail. Urinary tract issues and inflammation in different parts of the kidney can also lead to long-term functional decline. There are things that are more under our control: Heavy or long-term use of certain medications, even those that are common over-the-counter. Smoking can also be a contributing factor to chronic kidney disease.\n",
            "\n",
            "Often there are no outward signs in the earlier stages of chronic kidney disease, which is grouped into stages 1 through 5. Generally, earlier stages are known as 1 to 3. And as kidney disease progresses, you may notice the following symptoms. Nausea and vomiting, muscle cramps, loss of appetite, swelling via feet and ankles, dry, itchy skin, shortness of breath, trouble sleeping, urinating either too much or too little. However, these are usually in the later stages, but they can also happen in other disorders. So don't automatically interpret this as having kidney disease. But if you're experiencing anything that concerns you, you should make an appointment with your doctor.\n",
            "\n",
            "Even before any symptoms appear, routine blood work can indicate that you might be in the early stages of chronic kidney disease. And the earlier it's detected, the easier it is to treat. This is why regular checkups with your doctor are important. If your doctor suspects the onset of chronic kidney disease, they may schedule a variety of other tests. They may also refer you to a kidney specialist, a nephrologist like myself. Urine tests can reveal abnormalities and give clues to the underlying cause of the chronic kidney disease. And this can also help to determine the underlying issues. Various imaging tests like ultrasounds or CT scans can be done to help your doctor assess the size, the structure, as well as evaluate the visible damage, inflammation or stones of your kidneys. And in some cases, a kidney biopsy may be necessary. And a small amount of tissue is taken with a needle and sent to the pathologist for further analysis.\n",
            "\n",
            "Treatment is determined by what is causing your kidneys to not function normally. Treating the cause is key, leading to reduced complications and slowing progression of kidney disease. For example, getting better blood pressure control, improved sugar control and diabetes, and reducing weight are often key interventions. However, existing damage is not usually reversible. In some conditions, treatment can reverse the cause of the disease. So seeking medical review is really important. Individual complications vary, but treatment might include high blood pressure medication, diuretics to reduce fluid and swelling, supplements to relieve anemia, statins to lower cholesterol, or medications to protect your bones and prevent blood vessel calcification. A lower-protein diet may also be recommended. It reduces the amount of waste your kidneys need to filter from your blood. These can not only slow the damage of kidney disease, but make you feel better as well. When the damage has progressed to the point that 85 to 90 percent of your kidney function is gone, and they no longer work well enough to keep you alive, it's called end-stage kidney failure. But there are still options. There's dialysis, which uses a machine to filter the toxins and remove water from your body as your kidneys are no longer able to do this. Where possible, the preferred therapy is a kidney transplant. While an organ transplant can sound daunting, it's actually often the better alternative, and the closest thing to a cure, if you qualify for a kidney transplant.\n",
            "\n",
            "If you have kidney disease, there are lifestyle choices. Namely quit smoking. Consuming alcohol in moderation. If you're overweight or obese, then try to lose weight. Staying active and getting exercise can help not only with your weight, but fatigue and stress. If your condition allows, keep up with your routine, whether that's working, hobbies, social activities, or other things you enjoy. It can be helpful to talk to someone you trust, a friend or relative who's good at listening. Or your doctor could also refer you to a therapist or social worker. It can also be helpful to find a support group and connect with people going through the same thing. Learning you have chronic kidney disease and learning how to live with it can be a challenge. But there are lots of ways to help you to be more comfortable for longer before more drastic measures are needed. And even then, there is plenty of hope. If you'd like to learn even more about chronic kidney disease, watch our other related videos or visit mayoclinic.org. We wish you well.\n"
          ]
        }
      ]
    },
    {
      "cell_type": "code",
      "source": [
        "#Tokinization\n",
        "text = corpus\n",
        "sentence_list = nltk.sent_tokenize(text) # will return list of sentences"
      ],
      "metadata": {
        "id": "w0sut1KKrb_e"
      },
      "execution_count": null,
      "outputs": []
    },
    {
      "cell_type": "code",
      "source": [
        "sentence_list"
      ],
      "metadata": {
        "colab": {
          "base_uri": "https://localhost:8080/"
        },
        "id": "fgMsdmU3sBAy",
        "outputId": "9d35d077-ef5e-4c55-b541-b535d1b1265e"
      },
      "execution_count": null,
      "outputs": [
        {
          "output_type": "execute_result",
          "data": {
            "text/plain": [
              "[\"I'm Dr. Andrew Bentall, a kidney doctor at Mayo Clinic.\",\n",
              " 'I look after patients with kidney disease, either in the early stages, or with more advanced kidney disease considering dialysis and transplantation as treatment options.',\n",
              " \"In this video, we'll cover the basics of chronic kidney disease.\",\n",
              " 'What is it?',\n",
              " 'Who gets it?',\n",
              " 'The symptoms, diagnosis and treatment.',\n",
              " \"Whether you are looking for answers for yourself or for someone you love, we're here to give you the best information available.\",\n",
              " 'Chronic kidney disease is a disease characterized by progressive damage and loss of function in the kidneys.',\n",
              " \"It's estimated that chronic kidney disease affects about one in seven American adults.\",\n",
              " \"And most of those don't know they have it.\",\n",
              " \"Before we get into the disease itself, let's talk a little bit about the kidneys and what they do.\",\n",
              " 'Our kidneys play many important roles keeping our bodies in balance.',\n",
              " 'They remove waste and toxins, excess water from the bloodstream, which is carried out of the body in urine.',\n",
              " \"They helped to make hormones to produce red blood cells, and they turn vitamin D into its active form, so it's usable in the body.\",\n",
              " 'There are quite a few things that can cause or put you at higher risk for chronic kidney disease.',\n",
              " 'Some of them are not things that can be avoided.',\n",
              " 'Your risk is simply higher if you have a family history of certain genetic conditions like polycystic kidney disease or some autoimmune diseases like lupus or IgA nephropathy.',\n",
              " 'Defects in the kidney structure can also cause your kidneys to fail, and you have an increased risk as you get older.',\n",
              " 'Sometimes, other common medical conditions can increase your risk.',\n",
              " 'Diabetes is the most common cause of kidney disease.',\n",
              " 'Both type 1 and type 2 diabetes.',\n",
              " 'But also heart disease and obesity can contribute to the damage that causes kidneys to fail.',\n",
              " 'Urinary tract issues and inflammation in different parts of the kidney can also lead to long-term functional decline.',\n",
              " 'There are things that are more under our control: Heavy or long-term use of certain medications, even those that are common over-the-counter.',\n",
              " 'Smoking can also be a contributing factor to chronic kidney disease.',\n",
              " 'Often there are no outward signs in the earlier stages of chronic kidney disease, which is grouped into stages 1 through 5.',\n",
              " 'Generally, earlier stages are known as 1 to 3.',\n",
              " 'And as kidney disease progresses, you may notice the following symptoms.',\n",
              " 'Nausea and vomiting, muscle cramps, loss of appetite, swelling via feet and ankles, dry, itchy skin, shortness of breath, trouble sleeping, urinating either too much or too little.',\n",
              " 'However, these are usually in the later stages, but they can also happen in other disorders.',\n",
              " \"So don't automatically interpret this as having kidney disease.\",\n",
              " \"But if you're experiencing anything that concerns you, you should make an appointment with your doctor.\",\n",
              " 'Even before any symptoms appear, routine blood work can indicate that you might be in the early stages of chronic kidney disease.',\n",
              " \"And the earlier it's detected, the easier it is to treat.\",\n",
              " 'This is why regular checkups with your doctor are important.',\n",
              " 'If your doctor suspects the onset of chronic kidney disease, they may schedule a variety of other tests.',\n",
              " 'They may also refer you to a kidney specialist, a nephrologist like myself.',\n",
              " 'Urine tests can reveal abnormalities and give clues to the underlying cause of the chronic kidney disease.',\n",
              " 'And this can also help to determine the underlying issues.',\n",
              " 'Various imaging tests like ultrasounds or CT scans can be done to help your doctor assess the size, the structure, as well as evaluate the visible damage, inflammation or stones of your kidneys.',\n",
              " 'And in some cases, a kidney biopsy may be necessary.',\n",
              " 'And a small amount of tissue is taken with a needle and sent to the pathologist for further analysis.',\n",
              " 'Treatment is determined by what is causing your kidneys to not function normally.',\n",
              " 'Treating the cause is key, leading to reduced complications and slowing progression of kidney disease.',\n",
              " 'For example, getting better blood pressure control, improved sugar control and diabetes, and reducing weight are often key interventions.',\n",
              " 'However, existing damage is not usually reversible.',\n",
              " 'In some conditions, treatment can reverse the cause of the disease.',\n",
              " 'So seeking medical review is really important.',\n",
              " 'Individual complications vary, but treatment might include high blood pressure medication, diuretics to reduce fluid and swelling, supplements to relieve anemia, statins to lower cholesterol, or medications to protect your bones and prevent blood vessel calcification.',\n",
              " 'A lower-protein diet may also be recommended.',\n",
              " 'It reduces the amount of waste your kidneys need to filter from your blood.',\n",
              " 'These can not only slow the damage of kidney disease, but make you feel better as well.',\n",
              " \"When the damage has progressed to the point that 85 to 90 percent of your kidney function is gone, and they no longer work well enough to keep you alive, it's called end-stage kidney failure.\",\n",
              " 'But there are still options.',\n",
              " \"There's dialysis, which uses a machine to filter the toxins and remove water from your body as your kidneys are no longer able to do this.\",\n",
              " 'Where possible, the preferred therapy is a kidney transplant.',\n",
              " \"While an organ transplant can sound daunting, it's actually often the better alternative, and the closest thing to a cure, if you qualify for a kidney transplant.\",\n",
              " 'If you have kidney disease, there are lifestyle choices.',\n",
              " 'Namely quit smoking.',\n",
              " 'Consuming alcohol in moderation.',\n",
              " \"If you're overweight or obese, then try to lose weight.\",\n",
              " 'Staying active and getting exercise can help not only with your weight, but fatigue and stress.',\n",
              " \"If your condition allows, keep up with your routine, whether that's working, hobbies, social activities, or other things you enjoy.\",\n",
              " \"It can be helpful to talk to someone you trust, a friend or relative who's good at listening.\",\n",
              " 'Or your doctor could also refer you to a therapist or social worker.',\n",
              " 'It can also be helpful to find a support group and connect with people going through the same thing.',\n",
              " 'Learning you have chronic kidney disease and learning how to live with it can be a challenge.',\n",
              " 'But there are lots of ways to help you to be more comfortable for longer before more drastic measures are needed.',\n",
              " 'And even then, there is plenty of hope.',\n",
              " \"If you'd like to learn even more about chronic kidney disease, watch our other related videos or visit mayoclinic.org.\",\n",
              " 'We wish you well.']"
            ]
          },
          "metadata": {},
          "execution_count": 12
        }
      ]
    },
    {
      "cell_type": "code",
      "source": [
        "#greeting respose \n",
        "def greeting_respone(text):\n",
        "  text = text.lower()\n",
        "\n",
        "  #Bots greeting respose\n",
        "  bot_greetings= ['hi','Hello','Good to see you', 'Hayy']\n",
        "  #Users greetings \n",
        "  user_greetings=['hi','how are you','hello', 'good evening','good morning','hola','hey','greetings']\n",
        "\n",
        "  for word in text.split():\n",
        "    if word in user_greetings:\n",
        "      return random.choice(bot_greetings)\n"
      ],
      "metadata": {
        "id": "OP-fcShjsB3s"
      },
      "execution_count": null,
      "outputs": []
    },
    {
      "cell_type": "code",
      "source": [
        "def index_sort(list_var):\n",
        "  lenght = len(list_var)\n",
        "  list_index = list(range(0, lenght ))\n",
        "\n",
        "  x= list_var\n",
        "  for i in range(lenght):\n",
        "    for j in range(lenght):\n",
        "      if x[list_index[i]] > x[list_index[j]]:\n",
        "        temp = list_index[i]\n",
        "        list_index[i]= list_index[j]\n",
        "        list_index[j] = temp\n",
        "  return list_index\n"
      ],
      "metadata": {
        "id": "N6kjgm_8uy7k"
      },
      "execution_count": null,
      "outputs": []
    },
    {
      "cell_type": "code",
      "source": [
        "#Create the bot respone\n",
        "def bot_response(user_input):\n",
        "  user_input= user_input.lower()\n",
        "  sentence_list.append(user_input)\n",
        "  bot_response= ''\n",
        "  cm = CountVectorizer().fit_transform(sentence_list)\n",
        "  similarity_scores = cosine_similarity(cm[-1] , cm)\n",
        "  similarity_scores_list = similarity_scores.flatten()\n",
        "  index= index_sort(similarity_scores_list)\n",
        "  index = index[1:]\n",
        "  response_flag = 0\n",
        "\n",
        "  j=0\n",
        "  for i in range(len(index)):\n",
        "    if similarity_scores_list[index[i]]> 0.0:\n",
        "      bot_response = bot_response + ' ' + sentence_list[index[i]]\n",
        "      response_flag = 1\n",
        "      j = j+1\n",
        "    if j>2:\n",
        "      break\n",
        "  \n",
        "  if response_flag == 0:\n",
        "    bot_response = bot_response + ' ' + \"I apologize, but I don't understand.\" \n",
        "\n",
        "  sentence_list.remove(user_input)\n",
        "\n",
        "\n",
        "  return bot_response\n"
      ],
      "metadata": {
        "id": "HCVIzUMRsUjy"
      },
      "execution_count": null,
      "outputs": []
    },
    {
      "cell_type": "code",
      "source": [
        "#start the chat\n",
        "print(\"DocuBot: I am a doctor bot. I will answer your queries about Chronic kidney disease, if you want to exit, type bye.\")\n",
        "exit_list=['exit', 'see you later','bye']\n",
        "while(True):\n",
        "  user_input= input()\n",
        "  if user_input.lower() in exit_list:\n",
        "    print(\"DocuBot: Chat with you later !\")\n",
        "    break\n",
        "  else:\n",
        "    if greeting_respone(user_input) != None:\n",
        "      print('DocuBot: ' ,greeting_respone(user_input))\n",
        "    else:\n",
        "      print('DocuBot: '+ bot_response(user_input))\n"
      ],
      "metadata": {
        "colab": {
          "base_uri": "https://localhost:8080/"
        },
        "id": "IQgrqSYlwKRt",
        "outputId": "e69d0b9f-8710-49e3-cf12-1027449dd159"
      },
      "execution_count": null,
      "outputs": [
        {
          "output_type": "stream",
          "name": "stdout",
          "text": [
            "DocuBot: I am a doctor bot. I will answer your queries about Chronic kidney disease, if you want to exit, type bye.\n",
            "bye\n",
            "DocuBot: Chat with you later !\n"
          ]
        }
      ]
    },
    {
      "cell_type": "code",
      "source": [],
      "metadata": {
        "id": "HDLv34nazzIV"
      },
      "execution_count": null,
      "outputs": []
    }
  ]
}